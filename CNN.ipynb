{
 "cells": [
  {
   "cell_type": "code",
   "execution_count": null,
   "metadata": {
    "collapsed": true
   },
   "outputs": [],
   "source": [
    "import numpy as np\n",
    "import pandas as pd\n",
    "import seaborn as sns\n",
    "import matplotlib.pyplot as plt\n",
    "import os\n",
    "\n",
    "from keras.preprocessing.image import ImageDataGenerator\n",
    "from keras.models import Sequential\n",
    "from keras.layers import Conv2D, MaxPooling2D, Flatten, Dense, BatchNormalization, Dropout\n",
    "from keras.optimizers import Adam\n",
    "\n",
    "training_path = 'train/'\n",
    "test_path = 'test/'\n",
    "train=pd.read_csv('train.csv')\n",
    "\n",
    "#print(os.listdir())"
   ]
  },
  {
   "cell_type": "code",
   "execution_count": null,
   "metadata": {},
   "outputs": [],
   "source": [
    "datagen = ImageDataGenerator(rescale=(1/255))\n",
    "batch_size = 150\n",
    "train['has_cactus'] = train['has_cactus'].astype(str)\n",
    "train_generator = datagen.flow_from_dataframe(dataframe=train[:15001],directory=training_path,x_col=\"id\",\n",
    "                                            y_col=\"has_cactus\",class_mode=\"binary\",batch_size=batch_size,\n",
    "                                            target_size=(150,150))\n",
    "\n",
    "valid_generator = datagen.flow_from_dataframe(dataframe = train[15000:],directory=training_path,x_col=\"id\", y_col=\"has_cactus\",\n",
    "                                             class_mode=\"binary\",batch_size= batch_size ,target_size=(150,150))\n",
    "\n",
    "batchX, batchy = train_generator.next()\n",
    "print('Batch shape=%s, min=%.3f, max=%.3f' % (batchX.shape, batchX.min(), batchX.max()))"
   ]
  },
  {
   "cell_type": "code",
   "execution_count": null,
   "metadata": {
    "collapsed": true
   },
   "outputs": [],
   "source": [
    "for i in range(0,1):\n",
    "    image = batchX[i]\n",
    "    image = image.squeeze()\n",
    "    plt.imshow(image)\n",
    "    plt.show()"
   ]
  },
  {
   "cell_type": "code",
   "execution_count": null,
   "metadata": {
    "collapsed": true
   },
   "outputs": [],
   "source": [
    "class TrainModel:\n",
    "    \n",
    "    def __init__(self, train_generator, lr: float = 0.001, epochs: int = 10, batch_size: int = 32,\n",
    "                 loss: str = 'binary_crossentropy'):\n",
    "        self.train_generator = train_generator\n",
    "        self.valid_generator = valid_generator\n",
    "                \n",
    "        self.epochs = epochs\n",
    "        self.batch_size = batch_size\n",
    "\n",
    "        self.optimizer = Adam(lr=lr)\n",
    "        self.loss = loss\n",
    "\n",
    "    def create_model(self, summarize: bool = True):\n",
    "        model= Sequential()\n",
    "        model.add(Conv2D(32,(3,3),activation='relu',input_shape=(150,150,3)))\n",
    "        model.add(MaxPooling2D((2,2)))\n",
    "        model.add(Conv2D(filters = 32, kernel_size = 1, activation = 'relu'))\n",
    "        model.add(Conv2D(64,(3,3),activation='relu',input_shape=(150,150,3)))\n",
    "        model.add(MaxPooling2D((2,2)))\n",
    "        model.add(Conv2D(128,(3,3),activation='relu',input_shape=(150,150,3)))\n",
    "        model.add(MaxPooling2D((2,2)))\n",
    "        model.add(Conv2D(128,(3,3),activation='relu',input_shape=(150,150,3)))\n",
    "        model.add(MaxPooling2D((2,2)))\n",
    "        model.add(Flatten())\n",
    "        model.add(Dense(512,activation='relu'))\n",
    "        model.add(Dense(1,activation='sigmoid'))\n",
    "        \n",
    "        if summarize:\n",
    "            model.summary()\n",
    "\n",
    "        return model    \n",
    "    \n",
    "    def compile(self, kmodel: Sequential):\n",
    "        kmodel.compile(loss=self.loss,optimizer=self.optimizer,metrics=['acc'])\n",
    "        \n",
    "        return kmodel\n",
    "    \n",
    "    def train(self, kmodel: Sequential):\n",
    "        history = kmodel.fit_generator(self.train_generator,steps_per_epoch=100,epochs=10,validation_data=valid_generator,\n",
    "                            validation_steps=50) \n",
    "        return history, kmodel"
   ]
  },
  {
   "cell_type": "code",
   "execution_count": null,
   "metadata": {
    "collapsed": true
   },
   "outputs": [],
   "source": [
    "def plot_training_curves(history):\n",
    "    acc = history.history['acc']\n",
    "    val_acc = history.history['val_acc']\n",
    "    loss = history.history['loss']\n",
    "    val_loss = history.history['val_loss']\n",
    "    \n",
    "    epochs = range(1, len(acc) + 1)\n",
    "    \n",
    "    plt.plot(epochs, loss, 'r', label='Training loss')\n",
    "    plt.plot(epochs, val_loss, 'g', label='Validation loss')\n",
    "    plt.title('Losses')\n",
    "    plt.legend()\n",
    "    plt.figure()\n",
    "    \n",
    "    plt.plot(epochs, acc, 'r', label='Training acc')\n",
    "    plt.plot(epochs, val_acc, 'g', label='Validation acc')\n",
    "    plt.title('Accuracies')\n",
    "    plt.legend()\n",
    "    plt.figure()\n",
    "    \n",
    "    plt.show()"
   ]
  },
  {
   "cell_type": "code",
   "execution_count": null,
   "metadata": {},
   "outputs": [],
   "source": [
    "trainer = TrainModel(train_generator, epochs=2, batch_size=1024, lr=0.0002)\n",
    "\n",
    "model = trainer.create_model()\n",
    "model = trainer.compile(model)\n",
    "\n",
    "history = trainer.train(model)\n",
    "\n",
    "history=model.fit_generator(train_generator,steps_per_epoch=5,epochs=10,validation_data=valid_generator,\n",
    "                            validation_steps=50) "
   ]
  },
  {
   "cell_type": "code",
   "execution_count": null,
   "metadata": {
    "scrolled": true
   },
   "outputs": [],
   "source": [
    "plot_training_curves(history)"
   ]
  },
  {
   "cell_type": "code",
   "execution_count": null,
   "metadata": {
    "collapsed": true
   },
   "outputs": [],
   "source": []
  }
 ],
 "metadata": {
  "kernelspec": {
   "display_name": "Python 3",
   "language": "python",
   "name": "python3"
  },
  "language_info": {
   "codemirror_mode": {
    "name": "ipython",
    "version": 3
   },
   "file_extension": ".py",
   "mimetype": "text/x-python",
   "name": "python",
   "nbconvert_exporter": "python",
   "pygments_lexer": "ipython3",
   "version": "3.6.3"
  }
 },
 "nbformat": 4,
 "nbformat_minor": 2
}
